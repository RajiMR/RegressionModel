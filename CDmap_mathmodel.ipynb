{
 "cells": [
  {
   "cell_type": "code",
   "execution_count": null,
   "id": "51041495-1940-4d12-bf71-34ded82e8ac9",
   "metadata": {},
   "outputs": [],
   "source": [
    "import nibabel as nib\n",
    "import numpy as np\n",
    "import pandas as pd\n",
    "import os, csv\n",
    "\n",
    "data = pd.read_csv('')\n",
    "df = pd.DataFrame(data)\n",
    "\n",
    "ADC_water = 30000\n",
    "ADC_min = 0\n",
    "\n",
    "for index, row in df.iloc[19:20].iterrows(): \n",
    "    pid = str(row['PatientID'])\n",
    "    print(pid)\n",
    "\n",
    "    destination = ''\n",
    "    \n",
    "    adc = os.path.join(destination, )\n",
    "    adcmask = os.path.join(destination, )\n",
    "    \n",
    "    # Load the NIfTI image\n",
    "    img = nib.load(adc)\n",
    "    mask_img = nib.load(adcmask)\n",
    "\n",
    "    # Get the image data as a NumPy array\n",
    "    adc = img.get_fdata()\n",
    "    adc[adc > 30000] = 0\n",
    "\n",
    "    mask_data = mask_img.get_fdata()\n",
    "\n",
    "    # Ensure mask is boolean\n",
    "    mask = mask_data.astype(bool)\n",
    "\n",
    "    # Create a copy of the original data to store the processed results\n",
    "    processed_data = np.copy(adc)\n",
    "    \n",
    "    # Iterate through each voxel and perform an operation\n",
    "    for x in range(adc.shape[0]):\n",
    "        for y in range(adc.shape[1]):\n",
    "            for z in range(adc.shape[2]):\n",
    "                if mask[x, y, z]:\n",
    "    \n",
    "                    num = (ADC_water - adc[x,y,z])\n",
    "                    den = (ADC_water - ADC_min)\n",
    "                    tumor_vol = (num/den)\n",
    "                \n",
    "                    avg_cell_vol = 4.19E-6\n",
    "                    \n",
    "                    processed_data[x, y, z] = 0.005 * 0.7405 * tumor_vol / avg_cell_vol\n",
    "    \n",
    "    # Create a new NIfTI image with the modified data\n",
    "    new_img = nib.Nifti1Image(processed_data, img.affine, img.header)\n",
    "    \n",
    "    # Save the new NIfTI image\n",
    "    nib.save(new_img, 'cd_adc_mask.nii.gz')"
   ]
  }
 ],
 "metadata": {
  "kernelspec": {
   "display_name": "Python 3 (ipykernel)",
   "language": "python",
   "name": "python3"
  },
  "language_info": {
   "codemirror_mode": {
    "name": "ipython",
    "version": 3
   },
   "file_extension": ".py",
   "mimetype": "text/x-python",
   "name": "python",
   "nbconvert_exporter": "python",
   "pygments_lexer": "ipython3",
   "version": "3.11.10"
  }
 },
 "nbformat": 4,
 "nbformat_minor": 5
}
